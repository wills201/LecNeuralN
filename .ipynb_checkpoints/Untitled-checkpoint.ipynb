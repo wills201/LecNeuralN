{
 "cells": [
  {
   "cell_type": "code",
   "execution_count": 1,
   "metadata": {},
   "outputs": [],
   "source": [
    "import tensorflow as tf\n"
   ]
  },
  {
   "cell_type": "code",
   "execution_count": null,
   "metadata": {},
   "outputs": [],
   "source": [
    "from tensorflow.keras.datasets import mnist\n",
    "import numpy as np\n",
    "(X_train,Y_train), (X_test, Y_test) = mnist.load_data()\n",
    "epochs = 10\n",
    "batch_size = 100\n",
    "X_train = X_train/255.0\n",
    "X_test = X_test/255.0\n",
    "X_test = tf.Variable(X_test)\n",
    "\n",
    "w1 = tf.Variable(tf.random.normal([784,300],stddev=0.03),name=\"w1\")\n",
    "b1 = tf.Variable(tf.random.normal([300]),name=\"b1\")\n",
    "\n",
    "w2 = tf.Variable(tf.random.normal([300,10],stddev = 0.03),name=\"w2\")\n",
    "b2 = tf.Variable(tf.random.normal([10]),name=\"b2\")\n",
    "\n",
    "def nn_model(x_input,w1,b1,w2,b2):\n",
    "    x_input = tf.reshape(x_input, (x_input.shape[0],-1))#w1 784x300 b1 = 300x1\n",
    "    x = tf.add(tf.matmul(tf.cast(x_input, tf.float32),w1),b1)#x = 100x300 w2 = 300x10 b2 = 10x1\n",
    "    x = tf.nn.relu(x)\n",
    "    logits = tf.add(tf.matmul(x,w2),b2)\n",
    "    return logits #100x10\n",
    "\n",
    "def get_batch(x_data,y_data,batch_size):\n",
    "    indx = np.random.randint(0,len(y_data),batch_size)\n",
    "    return x_data[indx,:,:], y_data[indx]\n",
    "\n",
    "def lossfn(logits,labels):\n",
    "    return tf.reduce_mean(tf.nn.softmax_cross_entropy_with_logits(labels=labels,logits=logits))\n",
    "\n",
    "optimizer = tf.keras.optimizers.Adam()\n",
    "\n",
    "for epoch in range(epochs):\n",
    "    avg_loss = 0\n",
    "    total_batches = int(len(Y_train)/batch_size)\n",
    "    for i in range(total_batches):\n",
    "        batch_x,batch_y = get_batch(X_train,Y_train,batch_size)\n",
    "        batch_x = tf.Variable(batch_x)\n",
    "        batch_y = tf.Variable(batch_y)\n",
    "        batch_y = tf.one_hot(batch_y,10)\n",
    "        with tf.GradientTape() as tape:\n",
    "            logits = nn_model(batch_x,w1,b1,w2,b2)\n",
    "            loss = lossfn(logits,batch_y)\n",
    "        gradients = tape.gradient(loss,[w1,b1,w2,b2])\n",
    "        optimizer.apply_gradients(zip(gradients,[w1,b1,w2,b2]))\n",
    "        avg_loss += loss/total_batches\n",
    "\n",
    "    test_logits = nn_model(X_test,w1,b1,w2,b2)\n",
    "    max_index = tf.argmax(test_logits, axis=1)\n",
    "    test_acc = np.sum(max_index.numpy() == Y_test)/len(Y_test)\n",
    "\n",
    "print(\"Training complete!\")"
   ]
  }
 ],
 "metadata": {
  "kernelspec": {
   "display_name": "Python 3",
   "language": "python",
   "name": "python3"
  },
  "language_info": {
   "codemirror_mode": {
    "name": "ipython",
    "version": 3
   },
   "file_extension": ".py",
   "mimetype": "text/x-python",
   "name": "python",
   "nbconvert_exporter": "python",
   "pygments_lexer": "ipython3",
   "version": "3.6.9"
  }
 },
 "nbformat": 4,
 "nbformat_minor": 4
}
